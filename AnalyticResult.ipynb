{
 "cells": [
  {
   "cell_type": "code",
   "execution_count": 1,
   "id": "bd09658a",
   "metadata": {
    "ExecuteTime": {
     "end_time": "2022-04-14T13:38:01.502216Z",
     "start_time": "2022-04-14T13:37:49.167687Z"
    }
   },
   "outputs": [
    {
     "name": "stdout",
     "output_type": "stream",
     "text": [
      "t0, tn, dt, nt; 0.0000 90.0000 0.1000 901\n"
     ]
    },
    {
     "data": {
      "image/png": "[encoded data removed]",
      "text/plain": [
       "<Figure size 432x288 with 1 Axes>"
      ]
     },
     "metadata": {
      "needs_background": "light"
     },
     "output_type": "display_data"
    },
    {
     "data": {
      "image/png": "[encoded data removed]",
      "text/plain": [
       "<Figure size 432x288 with 1 Axes>"
      ]
     },
     "metadata": {
      "needs_background": "light"
     },
     "output_type": "display_data"
    }
   ],
   "source": [
    "import numpy as np\n",
    "from scipy.special import hankel2\n",
    "import matplotlib.pyplot as plt\n",
    "from matplotlib import cm\n",
    "%matplotlib inline\n",
    "nt = 901\n",
    "# Time axis\n",
    "dt = 0.1\n",
    "t0 = 0.\n",
    "tn = dt * (nt-1)\n",
    "time = np.linspace(t0, tn, nt)\n",
    "print(\"t0, tn, dt, nt; %.4f %.4f %.4f %d\" % (t0, tn, dt, nt))\n",
    "# Source peak frequency in KHz\n",
    "f0 = .3\n",
    "\n",
    "\n",
    "def ricker(f, T, dt, t0):\n",
    "    t = np.linspace(-t0, T-t0, int(T/dt))\n",
    "    tt = (np.pi**2) * (f**2) * (t**2)\n",
    "    y = (1.0 - 2.0 * tt) * np.exp(- tt)\n",
    "    return y\n",
    "\n",
    "# Source and receiver geometries\n",
    "src_coordinates = np.empty((1, 2))\n",
    "src_coordinates[0, :] = 200.\n",
    "\n",
    "# Single receiver offset 100 m from source\n",
    "rec_coordinates = np.empty((1, 2))\n",
    "rec_coordinates[:, :] = 260.\n",
    "\n",
    "sx, sz = src_coordinates[0, :]\n",
    "rx, rz = rec_coordinates[0, :]\n",
    "def analytical(nt, dt, time):\n",
    "    # Fourier constants\n",
    "    nf = int(nt/2 + 1)\n",
    "    fnyq = 1. / (2 * dt)\n",
    "    df = 1.0 / time[-1]\n",
    "    faxis = df * np.arange(nf)\n",
    "\n",
    "    wavelet = ricker(f0, time[-1], dt, 1.5/f0)\n",
    "    c0 = 1.5\n",
    "    # Take the Fourier transform of the source time-function\n",
    "    R = np.fft.fft(wavelet)\n",
    "    R = R[0:nf]\n",
    "    nf = len(R)\n",
    "\n",
    "    # Compute the Hankel function and multiply by the source spectrum\n",
    "    U_a = np.zeros((nf), dtype=complex)\n",
    "    for a in range(1, nf-1):\n",
    "        k = 2 * np.pi * faxis[a] / c0\n",
    "        tmp = k * np.sqrt(((rx - sx))**2 + ((rz - sz))**2)\n",
    "        U_a[a] = -1j * np.pi * hankel2(0.0, tmp) * R[a]\n",
    "\n",
    "    # Do inverse fft on 0:dt:T and you have analytical solution\n",
    "    U_t = 1.0/(2.0 * np.pi) * np.real(np.fft.ifft(U_a[:], nt))\n",
    "\n",
    "    # The analytic solution needs be scaled by dx^2 to convert to pressure\n",
    "    return np.real(U_t) * (2**2),wavelet\n",
    "   \n",
    "\n",
    "time1 = np.linspace(0.0, 3000., 30001)\n",
    "U_t, temp= analytical(30001, 0.1, time1)\n",
    "\n",
    "U_t = U_t[0:1501]\n",
    "plt.figure()\n",
    "plt.plot(U_t[:], '--r', label='analytical')\n",
    "plt.figure()\n",
    "plt.plot(temp[1:nt])\n",
    "import pandas as pd\n",
    "pd.DataFrame(U_t).to_csv('out.csv')\n",
    "pd.DataFrame(temp).to_csv('seismic.csv')"
   ]
  },
  {
   "cell_type": "code",
   "execution_count": null,
   "id": "3bdec877",
   "metadata": {
    "ExecuteTime": {
     "start_time": "2022-04-11T16:26:16.723Z"
    }
   },
   "outputs": [],
   "source": [
    "U_t"
   ]
  },
  {
   "cell_type": "code",
   "execution_count": null,
   "id": "55267da5",
   "metadata": {},
   "outputs": [],
   "source": []
  }
 ],
 "metadata": {
  "kernelspec": {
   "display_name": "Python 3",
   "language": "python",
   "name": "python3"
  },
  "language_info": {
   "codemirror_mode": {
    "name": "ipython",
    "version": 3
   },
   "file_extension": ".py",
   "mimetype": "text/x-python",
   "name": "python",
   "nbconvert_exporter": "python",
   "pygments_lexer": "ipython3",
   "version": "3.8.8"
  }
 },
 "nbformat": 4,
 "nbformat_minor": 5
}
